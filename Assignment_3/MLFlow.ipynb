{
  "cells": [
    {
      "cell_type": "markdown",
      "metadata": {
        "colab_type": "text",
        "id": "view-in-github"
      },
      "source": [
        "<a href=\"https://colab.research.google.com/github/YasmineSarraj/MLOPS-assignments/blob/main/Assignment%203/MLFlow.ipynb\" target=\"_parent\"><img src=\"https://colab.research.google.com/assets/colab-badge.svg\" alt=\"Open In Colab\"/></a>"
      ]
    },
    {
      "cell_type": "code",
      "execution_count": 1,
      "metadata": {
        "colab": {
          "base_uri": "https://localhost:8080/"
        },
        "id": "phSssyGgJY0p",
        "outputId": "671cea36-faf6-4026-8c33-be237ddbbb3f"
      },
      "outputs": [
        {
          "name": "stdout",
          "output_type": "stream",
          "text": [
            "\n",
            "\u001b[1m[\u001b[0m\u001b[34;49mnotice\u001b[0m\u001b[1;39;49m]\u001b[0m\u001b[39;49m A new release of pip available: \u001b[0m\u001b[31;49m22.3.1\u001b[0m\u001b[39;49m -> \u001b[0m\u001b[32;49m23.1.2\u001b[0m\n",
            "\u001b[1m[\u001b[0m\u001b[34;49mnotice\u001b[0m\u001b[1;39;49m]\u001b[0m\u001b[39;49m To update, run: \u001b[0m\u001b[32;49m/Library/Developer/CommandLineTools/usr/bin/python3 -m pip install --upgrade pip\u001b[0m\n"
          ]
        }
      ],
      "source": [
        "! pip install pyngrok -q"
      ]
    },
    {
      "cell_type": "code",
      "execution_count": 2,
      "metadata": {
        "colab": {
          "base_uri": "https://localhost:8080/"
        },
        "id": "W8tkay1MDjPT",
        "outputId": "7ac3cf70-2e33-49f9-f1c8-eb37470af5fc"
      },
      "outputs": [
        {
          "name": "stdout",
          "output_type": "stream",
          "text": [
            "Defaulting to user installation because normal site-packages is not writeable\n",
            "Requirement already satisfied: mlflow in /Users/yasminesarraj/Library/Python/3.9/lib/python/site-packages (2.3.1)\n",
            "Requirement already satisfied: scipy<2 in /Users/yasminesarraj/Library/Python/3.9/lib/python/site-packages (from mlflow) (1.9.3)\n",
            "Requirement already satisfied: querystring-parser<2 in /Users/yasminesarraj/Library/Python/3.9/lib/python/site-packages (from mlflow) (1.2.4)\n",
            "Requirement already satisfied: gitpython<4,>=2.1.0 in /Users/yasminesarraj/Library/Python/3.9/lib/python/site-packages (from mlflow) (3.1.31)\n",
            "Requirement already satisfied: scikit-learn<2 in /Users/yasminesarraj/Library/Python/3.9/lib/python/site-packages (from mlflow) (1.1.3)\n",
            "Requirement already satisfied: packaging<24 in /Users/yasminesarraj/Library/Python/3.9/lib/python/site-packages (from mlflow) (21.3)\n",
            "Requirement already satisfied: pyyaml<7,>=5.1 in /Users/yasminesarraj/Library/Python/3.9/lib/python/site-packages (from mlflow) (6.0)\n",
            "Requirement already satisfied: matplotlib<4 in /Users/yasminesarraj/Library/Python/3.9/lib/python/site-packages (from mlflow) (3.6.2)\n",
            "Requirement already satisfied: protobuf<5,>=3.12.0 in /Users/yasminesarraj/Library/Python/3.9/lib/python/site-packages (from mlflow) (3.19.6)\n",
            "Requirement already satisfied: pytz<2024 in /Users/yasminesarraj/Library/Python/3.9/lib/python/site-packages (from mlflow) (2022.6)\n",
            "Requirement already satisfied: markdown<4,>=3.3 in /Users/yasminesarraj/Library/Python/3.9/lib/python/site-packages (from mlflow) (3.4.1)\n",
            "Requirement already satisfied: databricks-cli<1,>=0.8.7 in /Users/yasminesarraj/Library/Python/3.9/lib/python/site-packages (from mlflow) (0.17.6)\n",
            "Requirement already satisfied: docker<7,>=4.0.0 in /Users/yasminesarraj/Library/Python/3.9/lib/python/site-packages (from mlflow) (6.0.1)\n",
            "Requirement already satisfied: click<9,>=7.0 in /Users/yasminesarraj/Library/Python/3.9/lib/python/site-packages (from mlflow) (8.1.3)\n",
            "Requirement already satisfied: Flask<3 in /Users/yasminesarraj/Library/Python/3.9/lib/python/site-packages (from mlflow) (2.2.2)\n",
            "Requirement already satisfied: cloudpickle<3 in /Users/yasminesarraj/Library/Python/3.9/lib/python/site-packages (from mlflow) (2.2.0)\n",
            "Requirement already satisfied: importlib-metadata!=4.7.0,<7,>=3.7.0 in /Users/yasminesarraj/Library/Python/3.9/lib/python/site-packages (from mlflow) (5.0.0)\n",
            "Requirement already satisfied: numpy<2 in /Users/yasminesarraj/Library/Python/3.9/lib/python/site-packages (from mlflow) (1.23.4)\n",
            "Requirement already satisfied: Jinja2<4,>=2.11 in /Users/yasminesarraj/Library/Python/3.9/lib/python/site-packages (from mlflow) (3.1.2)\n",
            "Requirement already satisfied: alembic!=1.10.0,<2 in /Users/yasminesarraj/Library/Python/3.9/lib/python/site-packages (from mlflow) (1.10.4)\n",
            "Requirement already satisfied: entrypoints<1 in /Users/yasminesarraj/Library/Python/3.9/lib/python/site-packages (from mlflow) (0.4)\n",
            "Requirement already satisfied: requests<3,>=2.17.3 in /Users/yasminesarraj/Library/Python/3.9/lib/python/site-packages (from mlflow) (2.28.1)\n",
            "Requirement already satisfied: sqlparse<1,>=0.4.0 in /Users/yasminesarraj/Library/Python/3.9/lib/python/site-packages (from mlflow) (0.4.4)\n",
            "Requirement already satisfied: gunicorn<21 in /Users/yasminesarraj/Library/Python/3.9/lib/python/site-packages (from mlflow) (20.1.0)\n",
            "Requirement already satisfied: sqlalchemy<3,>=1.4.0 in /Users/yasminesarraj/Library/Python/3.9/lib/python/site-packages (from mlflow) (2.0.11)\n",
            "Requirement already satisfied: pandas<3 in /Users/yasminesarraj/Library/Python/3.9/lib/python/site-packages (from mlflow) (1.5.1)\n",
            "Requirement already satisfied: pyarrow<12,>=4.0.0 in /Users/yasminesarraj/Library/Python/3.9/lib/python/site-packages (from mlflow) (11.0.0)\n",
            "Requirement already satisfied: typing-extensions>=4 in /Users/yasminesarraj/Library/Python/3.9/lib/python/site-packages (from alembic!=1.10.0,<2->mlflow) (4.4.0)\n",
            "Requirement already satisfied: Mako in /Users/yasminesarraj/Library/Python/3.9/lib/python/site-packages (from alembic!=1.10.0,<2->mlflow) (1.2.4)\n",
            "Requirement already satisfied: six>=1.10.0 in /Library/Developer/CommandLineTools/Library/Frameworks/Python3.framework/Versions/3.9/lib/python3.9/site-packages (from databricks-cli<1,>=0.8.7->mlflow) (1.15.0)\n",
            "Requirement already satisfied: pyjwt>=1.7.0 in /Users/yasminesarraj/Library/Python/3.9/lib/python/site-packages (from databricks-cli<1,>=0.8.7->mlflow) (2.6.0)\n",
            "Requirement already satisfied: tabulate>=0.7.7 in /Users/yasminesarraj/Library/Python/3.9/lib/python/site-packages (from databricks-cli<1,>=0.8.7->mlflow) (0.9.0)\n",
            "Requirement already satisfied: oauthlib>=3.1.0 in /Users/yasminesarraj/Library/Python/3.9/lib/python/site-packages (from databricks-cli<1,>=0.8.7->mlflow) (3.2.2)\n",
            "Requirement already satisfied: websocket-client>=0.32.0 in /Users/yasminesarraj/Library/Python/3.9/lib/python/site-packages (from docker<7,>=4.0.0->mlflow) (1.4.1)\n",
            "Requirement already satisfied: urllib3>=1.26.0 in /Users/yasminesarraj/Library/Python/3.9/lib/python/site-packages (from docker<7,>=4.0.0->mlflow) (1.26.12)\n",
            "Requirement already satisfied: itsdangerous>=2.0 in /Users/yasminesarraj/Library/Python/3.9/lib/python/site-packages (from Flask<3->mlflow) (2.1.2)\n",
            "Requirement already satisfied: Werkzeug>=2.2.2 in /Users/yasminesarraj/Library/Python/3.9/lib/python/site-packages (from Flask<3->mlflow) (2.2.2)\n",
            "Requirement already satisfied: gitdb<5,>=4.0.1 in /Users/yasminesarraj/Library/Python/3.9/lib/python/site-packages (from gitpython<4,>=2.1.0->mlflow) (4.0.10)\n",
            "Requirement already satisfied: setuptools>=3.0 in /Users/yasminesarraj/Library/Python/3.9/lib/python/site-packages (from gunicorn<21->mlflow) (65.6.3)\n",
            "Requirement already satisfied: zipp>=0.5 in /Users/yasminesarraj/Library/Python/3.9/lib/python/site-packages (from importlib-metadata!=4.7.0,<7,>=3.7.0->mlflow) (3.10.0)\n",
            "Requirement already satisfied: MarkupSafe>=2.0 in /Users/yasminesarraj/Library/Python/3.9/lib/python/site-packages (from Jinja2<4,>=2.11->mlflow) (2.1.1)\n",
            "Requirement already satisfied: pyparsing>=2.2.1 in /Users/yasminesarraj/Library/Python/3.9/lib/python/site-packages (from matplotlib<4->mlflow) (3.0.9)\n",
            "Requirement already satisfied: fonttools>=4.22.0 in /Users/yasminesarraj/Library/Python/3.9/lib/python/site-packages (from matplotlib<4->mlflow) (4.38.0)\n",
            "Requirement already satisfied: contourpy>=1.0.1 in /Users/yasminesarraj/Library/Python/3.9/lib/python/site-packages (from matplotlib<4->mlflow) (1.0.6)\n",
            "Requirement already satisfied: pillow>=6.2.0 in /Users/yasminesarraj/Library/Python/3.9/lib/python/site-packages (from matplotlib<4->mlflow) (9.3.0)\n",
            "Requirement already satisfied: cycler>=0.10 in /Users/yasminesarraj/Library/Python/3.9/lib/python/site-packages (from matplotlib<4->mlflow) (0.11.0)\n",
            "Requirement already satisfied: python-dateutil>=2.7 in /Users/yasminesarraj/Library/Python/3.9/lib/python/site-packages (from matplotlib<4->mlflow) (2.8.2)\n",
            "Requirement already satisfied: kiwisolver>=1.0.1 in /Users/yasminesarraj/Library/Python/3.9/lib/python/site-packages (from matplotlib<4->mlflow) (1.4.4)\n",
            "Requirement already satisfied: certifi>=2017.4.17 in /Users/yasminesarraj/Library/Python/3.9/lib/python/site-packages (from requests<3,>=2.17.3->mlflow) (2022.9.24)\n",
            "Requirement already satisfied: idna<4,>=2.5 in /Users/yasminesarraj/Library/Python/3.9/lib/python/site-packages (from requests<3,>=2.17.3->mlflow) (3.4)\n",
            "Requirement already satisfied: charset-normalizer<3,>=2 in /Users/yasminesarraj/Library/Python/3.9/lib/python/site-packages (from requests<3,>=2.17.3->mlflow) (2.1.1)\n",
            "Requirement already satisfied: threadpoolctl>=2.0.0 in /Users/yasminesarraj/Library/Python/3.9/lib/python/site-packages (from scikit-learn<2->mlflow) (3.1.0)\n",
            "Requirement already satisfied: joblib>=1.0.0 in /Users/yasminesarraj/Library/Python/3.9/lib/python/site-packages (from scikit-learn<2->mlflow) (1.2.0)\n",
            "Requirement already satisfied: smmap<6,>=3.0.1 in /Users/yasminesarraj/Library/Python/3.9/lib/python/site-packages (from gitdb<5,>=4.0.1->gitpython<4,>=2.1.0->mlflow) (5.0.0)\n",
            "\n",
            "\u001b[1m[\u001b[0m\u001b[34;49mnotice\u001b[0m\u001b[1;39;49m]\u001b[0m\u001b[39;49m A new release of pip available: \u001b[0m\u001b[31;49m22.3.1\u001b[0m\u001b[39;49m -> \u001b[0m\u001b[32;49m23.1.2\u001b[0m\n",
            "\u001b[1m[\u001b[0m\u001b[34;49mnotice\u001b[0m\u001b[1;39;49m]\u001b[0m\u001b[39;49m To update, run: \u001b[0m\u001b[32;49m/Library/Developer/CommandLineTools/usr/bin/python3 -m pip install --upgrade pip\u001b[0m\n"
          ]
        }
      ],
      "source": [
        "! pip install mlflow"
      ]
    },
    {
      "cell_type": "code",
      "execution_count": 3,
      "metadata": {
        "id": "VtcAkogBC3WV"
      },
      "outputs": [],
      "source": [
        "import mlflow"
      ]
    },
    {
      "cell_type": "code",
      "execution_count": 4,
      "metadata": {
        "id": "8uOyO7lqGw8U"
      },
      "outputs": [],
      "source": [
        "import numpy as np\n",
        "import pandas as pd\n",
        "from sklearn.preprocessing import LabelEncoder\n",
        "from sklearn.preprocessing import StandardScaler\n",
        "import torch\n",
        "import matplotlib.pyplot as plt\n",
        "from tqdm import tqdm_notebook\n",
        "from sklearn.metrics import accuracy_score, mean_squared_error\n",
        "from statistics import mean"
      ]
    },
    {
      "cell_type": "code",
      "execution_count": 5,
      "metadata": {
        "id": "wzP0mZ_4G0CR"
      },
      "outputs": [],
      "source": [
        "penguins = pd.read_csv(\"https://github.com/allisonhorst/palmerpenguins/raw/5b5891f01b52ae26ad8cb9755ec93672f49328a8/data/penguins_size.csv\")\n",
        "penguins.dropna(inplace=True)\n",
        "\n",
        "attributes = penguins.iloc[:,2:6]\n",
        "scaler = StandardScaler()\n",
        "num = scaler.fit_transform(attributes)\n",
        "data_n = pd.DataFrame(num, columns=['culmen_length_mm','culmen_depth_mm','flipper_length_mm','body_mass_g'])\n",
        "\n",
        "species = penguins.iloc[:, 0]\n",
        "labelencoder = LabelEncoder()\n",
        "cat = labelencoder.fit_transform(species)\n",
        "enc_species = pd.DataFrame(cat, columns=['species_short'])\n",
        "\n",
        "enc_species = pd.get_dummies(species)\n",
        "\n",
        "\n",
        "#Tensor Of all the numerical values, lenghth etc. \n",
        "X_tensor = torch.tensor(data_n.astype(np.float32).values)\n",
        "\n",
        "#Tensor of the encoded categorical variable\n",
        "y_tensor = torch.tensor(enc_species.astype(np.float32).values)\n",
        "\n"
      ]
    },
    {
      "cell_type": "code",
      "execution_count": 6,
      "metadata": {
        "colab": {
          "base_uri": "https://localhost:8080/"
        },
        "id": "2sO5qrEGGZcb",
        "outputId": "0a68dbe3-40d8-4ca3-fe06-d1eaa28fe714"
      },
      "outputs": [
        {
          "name": "stderr",
          "output_type": "stream",
          "text": [
            "WARNING:root:Malformed experiment '1'. Detailed error Yaml file '/Users/yasminesarraj/Documents/GitHub/MLOPS-assignments/Assignment_3/mlruns/1/meta.yaml' does not exist.\n",
            "Traceback (most recent call last):\n",
            "  File \"/Users/yasminesarraj/Library/Python/3.9/lib/python/site-packages/mlflow/store/tracking/file_store.py\", line 290, in search_experiments\n",
            "    exp = self._get_experiment(exp_id, view_type)\n",
            "  File \"/Users/yasminesarraj/Library/Python/3.9/lib/python/site-packages/mlflow/store/tracking/file_store.py\", line 383, in _get_experiment\n",
            "    meta = FileStore._read_yaml(experiment_dir, FileStore.META_DATA_FILE_NAME)\n",
            "  File \"/Users/yasminesarraj/Library/Python/3.9/lib/python/site-packages/mlflow/store/tracking/file_store.py\", line 1096, in _read_yaml\n",
            "    return _read_helper(root, file_name, attempts_remaining=retries)\n",
            "  File \"/Users/yasminesarraj/Library/Python/3.9/lib/python/site-packages/mlflow/store/tracking/file_store.py\", line 1089, in _read_helper\n",
            "    result = read_yaml(root, file_name)\n",
            "  File \"/Users/yasminesarraj/Library/Python/3.9/lib/python/site-packages/mlflow/utils/file_utils.py\", line 215, in read_yaml\n",
            "    raise MissingConfigException(\"Yaml file '%s' does not exist.\" % file_path)\n",
            "mlflow.exceptions.MissingConfigException: Yaml file '/Users/yasminesarraj/Documents/GitHub/MLOPS-assignments/Assignment_3/mlruns/1/meta.yaml' does not exist.\n",
            "2023/05/02 16:31:44 INFO mlflow.tracking.fluent: Experiment with name 'Penguins ANN' does not exist. Creating a new experiment.\n",
            "WARNING:root:Malformed experiment '1'. Detailed error Yaml file '/Users/yasminesarraj/Documents/GitHub/MLOPS-assignments/Assignment_3/mlruns/1/meta.yaml' does not exist.\n",
            "Traceback (most recent call last):\n",
            "  File \"/Users/yasminesarraj/Library/Python/3.9/lib/python/site-packages/mlflow/store/tracking/file_store.py\", line 290, in search_experiments\n",
            "    exp = self._get_experiment(exp_id, view_type)\n",
            "  File \"/Users/yasminesarraj/Library/Python/3.9/lib/python/site-packages/mlflow/store/tracking/file_store.py\", line 383, in _get_experiment\n",
            "    meta = FileStore._read_yaml(experiment_dir, FileStore.META_DATA_FILE_NAME)\n",
            "  File \"/Users/yasminesarraj/Library/Python/3.9/lib/python/site-packages/mlflow/store/tracking/file_store.py\", line 1096, in _read_yaml\n",
            "    return _read_helper(root, file_name, attempts_remaining=retries)\n",
            "  File \"/Users/yasminesarraj/Library/Python/3.9/lib/python/site-packages/mlflow/store/tracking/file_store.py\", line 1089, in _read_helper\n",
            "    result = read_yaml(root, file_name)\n",
            "  File \"/Users/yasminesarraj/Library/Python/3.9/lib/python/site-packages/mlflow/utils/file_utils.py\", line 215, in read_yaml\n",
            "    raise MissingConfigException(\"Yaml file '%s' does not exist.\" % file_path)\n",
            "mlflow.exceptions.MissingConfigException: Yaml file '/Users/yasminesarraj/Documents/GitHub/MLOPS-assignments/Assignment_3/mlruns/1/meta.yaml' does not exist.\n",
            "WARNING:root:Malformed experiment '1'. Detailed error Yaml file '/Users/yasminesarraj/Documents/GitHub/MLOPS-assignments/Assignment_3/mlruns/1/meta.yaml' does not exist.\n",
            "Traceback (most recent call last):\n",
            "  File \"/Users/yasminesarraj/Library/Python/3.9/lib/python/site-packages/mlflow/store/tracking/file_store.py\", line 290, in search_experiments\n",
            "    exp = self._get_experiment(exp_id, view_type)\n",
            "  File \"/Users/yasminesarraj/Library/Python/3.9/lib/python/site-packages/mlflow/store/tracking/file_store.py\", line 383, in _get_experiment\n",
            "    meta = FileStore._read_yaml(experiment_dir, FileStore.META_DATA_FILE_NAME)\n",
            "  File \"/Users/yasminesarraj/Library/Python/3.9/lib/python/site-packages/mlflow/store/tracking/file_store.py\", line 1096, in _read_yaml\n",
            "    return _read_helper(root, file_name, attempts_remaining=retries)\n",
            "  File \"/Users/yasminesarraj/Library/Python/3.9/lib/python/site-packages/mlflow/store/tracking/file_store.py\", line 1089, in _read_helper\n",
            "    result = read_yaml(root, file_name)\n",
            "  File \"/Users/yasminesarraj/Library/Python/3.9/lib/python/site-packages/mlflow/utils/file_utils.py\", line 215, in read_yaml\n",
            "    raise MissingConfigException(\"Yaml file '%s' does not exist.\" % file_path)\n",
            "mlflow.exceptions.MissingConfigException: Yaml file '/Users/yasminesarraj/Documents/GitHub/MLOPS-assignments/Assignment_3/mlruns/1/meta.yaml' does not exist.\n"
          ]
        }
      ],
      "source": [
        "mlflow.set_tracking_uri(\"sqlite://///Users/yasminesarraj/Documents/GitHub/MLOPS-assignments/Assignment_3/penguins.db\")\n",
        "mlflow.set_experiment(\"Penguins ANN\")\n",
        "experiment_id = mlflow.get_experiment_by_name('Penguins ANN').experiment_id"
      ]
    },
    {
      "cell_type": "code",
      "execution_count": 7,
      "metadata": {
        "colab": {
          "base_uri": "https://localhost:8080/",
          "height": 248,
          "referenced_widgets": [
            "74deed113d244cd09b868b8c93d87e53",
            "4198b4ae736442c4a1e2b7060aa70cf4",
            "29bfe3f05f9f45bfbeea1d4713972f19",
            "fbce23ae152846e6a2d6dfa40d89ab75",
            "73f46b5aefa24b7f89b5193f3673003c",
            "8be8a991913847fcb1e54491473e9fab",
            "db7fce47c3bf48fb9562288e30b11bdf",
            "31b689bdb6994ab08079b3b827975fe3",
            "e6c4587c765a48519d1ae0cd2d7a7746",
            "5789fcb0b6bc47f29d67e5ac06e5d70c",
            "105b40cad31b4a048ff962fefcca0853"
          ]
        },
        "id": "KqQauVXjC84-",
        "outputId": "79c9c2b8-4900-4b62-a6e3-0af0b9b13612"
      },
      "outputs": [
        {
          "name": "stderr",
          "output_type": "stream",
          "text": [
            "/var/folders/ss/lhx9lhjx3wn1dkd8thzyx0w40000gn/T/ipykernel_21041/814448772.py:29: TqdmDeprecationWarning: This function will be removed in tqdm==5.0.0\n",
            "Please use `tqdm.notebook.tqdm` instead of `tqdm.tqdm_notebook`\n",
            "  for i in tqdm_notebook(range(epochs), total=epochs, unit=\"epoch\"):\n"
          ]
        },
        {
          "data": {
            "application/vnd.jupyter.widget-view+json": {
              "model_id": "b4aa5dc922bc4f978d5446549290a0ad",
              "version_major": 2,
              "version_minor": 0
            },
            "text/plain": [
              "  0%|          | 0/50 [00:00<?, ?epoch/s]"
            ]
          },
          "metadata": {},
          "output_type": "display_data"
        },
        {
          "name": "stderr",
          "output_type": "stream",
          "text": [
            "/Users/yasminesarraj/Library/Python/3.9/lib/python/site-packages/torch/nn/modules/container.py:217: UserWarning: Implicit dimension choice for softmax has been deprecated. Change the call to include dim=X as an argument.\n",
            "  input = module(input)\n"
          ]
        },
        {
          "name": "stdout",
          "output_type": "stream",
          "text": [
            "Loss: 0.7264402508735657\n",
            "Loss: 0.5582209229469299\n",
            "Loss: 0.5569149255752563\n",
            "Loss: 0.5590516328811646\n",
            "Loss: 0.5548985600471497\n"
          ]
        }
      ],
      "source": [
        "with mlflow.start_run(run_name=\"run with artifact\", nested=True, experiment_id=experiment_id):\n",
        "  # Your machine learning code here\n",
        "  # Initializing Hyperparameters\n",
        "  epochs = 50\n",
        "  learning_rate = 0.001\n",
        "  loss_set = {}\n",
        "  # 1. Creating a FeedForwardNetwork\n",
        "  model_net4 = torch.nn.Sequential(\n",
        "                            # Input layer\n",
        "                            torch.nn.Linear(4,8),\n",
        "                            torch.nn.ReLU(),\n",
        "                            # 1. Hidden layer\n",
        "                            torch.nn.Linear(8,16),\n",
        "                            torch.nn.ReLU(),\n",
        "                            # 2. Hidden layer\n",
        "                            torch.nn.Linear(16,32),\n",
        "                            torch.nn.ReLU(),\n",
        "                            # 3. Hidden layer\n",
        "                            torch.nn.Linear(32,64),\n",
        "                            torch.nn.ReLU(),\n",
        "                            # Output layer\n",
        "                            torch.nn.Linear(64,3),\n",
        "                            torch.nn.Softmax()  # We have a multiclass single-label classification problem, since a penguin can only be from one species\n",
        "                          );\n",
        "  loss_cel = torch.nn.CrossEntropyLoss()\n",
        "  optimizer = torch.optim.RMSprop(model_net4.parameters(), lr=learning_rate)\n",
        "\n",
        "  # Loop over the number of epochs\n",
        "  for i in tqdm_notebook(range(epochs), total=epochs, unit=\"epoch\"):\n",
        "    lost_set_epoch = {}\n",
        "    j = 0\n",
        "    for x, y_t in zip(X_tensor, y_tensor):\n",
        "        output = model_net4.forward(x.float())\n",
        "        # 2. FeedForward Evaluation\n",
        "        loss = loss_cel(output, y_t.float())\n",
        "        optimizer.zero_grad();\n",
        "\n",
        "        # 3. Backward / Gradient Calculation\n",
        "        loss.backward()\n",
        "        # 4. Back Propagation\n",
        "        optimizer.step()\n",
        "        # Store the loss for each sample of data\n",
        "        lost_set_epoch[j] = loss\n",
        "        j = j + 1\n",
        "    \n",
        "    # Store the loss for each epoch\n",
        "    loss_set[i] = torch.mean(torch.stack(list(lost_set_epoch.values()))).detach().numpy()\n",
        "\n",
        "    # Display the loss after every 10 epochs\n",
        "    if (i % 10)==0:\n",
        "      print (f\"Loss: {loss_set[i]}\")\n",
        "\n",
        "  mlflow.log_param(\"Learning rate\", learning_rate)\n",
        "  mlflow.log_param(\"Num. of epochs\", epochs)\n",
        "\n",
        "  from pandas.core.groupby.groupby import OutputFrameOrSeries\n",
        "  with torch.no_grad():\n",
        "    n_correct = 0\n",
        "    n_samples = len(y_tensor)\n",
        "\n",
        "    outputs = model_net4.forward(X_tensor)\n",
        "    for idx, output in enumerate(outputs):\n",
        "      pred = np.argmax(output).item()\n",
        "      true_val = np.argmax(y_tensor[idx]).item()\n",
        "      \n",
        "      if pred == true_val:\n",
        "        n_correct += 1\n",
        "\n",
        "    acc = 100 * (n_correct / n_samples)\n",
        "\n",
        "  mlflow.log_metric(\"accuracy\", acc)\n",
        "  params_path = \"model.pt\"\n",
        "  torch.save(model_net4.state_dict(), params_path)\n",
        "  mlflow.log_artifact(params_path)\n",
        "  \n",
        "  # End the current run\n",
        "  mlflow.end_run()"
      ]
    },
    {
      "cell_type": "code",
      "execution_count": 8,
      "metadata": {},
      "outputs": [
        {
          "name": "stderr",
          "output_type": "stream",
          "text": [
            "[2023-05-02 16:31:49 +0200] [21095] [INFO] Starting gunicorn 20.1.0\n",
            "[2023-05-02 16:31:49 +0200] [21095] [ERROR] Connection in use: ('127.0.0.1', 8080)\n",
            "[2023-05-02 16:31:49 +0200] [21095] [ERROR] Retrying in 1 second.\n"
          ]
        },
        {
          "name": "stdout",
          "output_type": "stream",
          "text": [
            "\n",
            "\u001b[1m[\u001b[0m\u001b[34;49mnotice\u001b[0m\u001b[1;39;49m]\u001b[0m\u001b[39;49m A new release of pip available: \u001b[0m\u001b[31;49m22.3.1\u001b[0m\u001b[39;49m -> \u001b[0m\u001b[32;49m23.1.2\u001b[0m\n",
            "\u001b[1m[\u001b[0m\u001b[34;49mnotice\u001b[0m\u001b[1;39;49m]\u001b[0m\u001b[39;49m To update, run: \u001b[0m\u001b[32;49m/Library/Developer/CommandLineTools/usr/bin/python3 -m pip install --upgrade pip\u001b[0m\n"
          ]
        },
        {
          "name": "stderr",
          "output_type": "stream",
          "text": [
            "[2023-05-02 16:31:50 +0200] [21095] [ERROR] Connection in use: ('127.0.0.1', 8080)\n",
            "[2023-05-02 16:31:50 +0200] [21095] [ERROR] Retrying in 1 second.\n",
            "[2023-05-02 16:31:51 +0200] [21095] [ERROR] Connection in use: ('127.0.0.1', 8080)\n",
            "[2023-05-02 16:31:51 +0200] [21095] [ERROR] Retrying in 1 second.\n",
            "[2023-05-02 16:31:52 +0200] [21095] [ERROR] Connection in use: ('127.0.0.1', 8080)\n",
            "[2023-05-02 16:31:52 +0200] [21095] [ERROR] Retrying in 1 second.\n",
            "[2023-05-02 16:31:53 +0200] [21095] [ERROR] Connection in use: ('127.0.0.1', 8080)\n",
            "[2023-05-02 16:31:53 +0200] [21095] [ERROR] Retrying in 1 second.\n",
            "[2023-05-02 16:31:54 +0200] [21095] [ERROR] Can't connect to ('127.0.0.1', 8080)\n",
            "Running the mlflow server failed. Please see the logs above for details.\n",
            "WARNING:pyngrok.process.ngrok:t=2023-05-02T16:32:00+0200 lvl=warn msg=\"ngrok config file found at legacy location, move to XDG location\" xdg_path=\"/Users/yasminesarraj/Library/Application Support/ngrok/ngrok.yml\" legacy_path=/Users/yasminesarraj/.ngrok2/ngrok.yml\n"
          ]
        },
        {
          "name": "stdout",
          "output_type": "stream",
          "text": [
            "MLflow Tracking UI: https://ad16-86-52-72-48.ngrok-free.app\n"
          ]
        }
      ],
      "source": [
        "# run tracking UI in the background\n",
        "get_ipython().system_raw(\"mlflow ui --port 8080 &\")\n",
        "## Step 3 - Installing pyngrok for remote tunnel access using ngrock.com\n",
        "!pip install pyngrok --quiet\n",
        "from pyngrok import ngrok\n",
        "from getpass import getpass\n",
        "# Terminate open tunnels if any exist\n",
        "ngrok.kill()\n",
        "## Step 4 - Login on ngrok.com and get your authtoken from https://dashboard.ngrok.com/auth\n",
        "# Enter your auth token when the code is running\n",
        "NGROK_AUTH_TOKEN = getpass('Enter the ngrok authtoken: ')\n",
        "ngrok.set_auth_token(NGROK_AUTH_TOKEN)\n",
        "ngrok_tunnel = ngrok.connect(addr=\"8080\", proto=\"http\", bind_tls=True)\n",
        "print(\"MLflow Tracking UI:\", ngrok_tunnel.public_url)"
      ]
    },
    {
      "cell_type": "code",
      "execution_count": null,
      "metadata": {},
      "outputs": [],
      "source": []
    }
  ],
  "metadata": {
    "colab": {
      "authorship_tag": "ABX9TyOZeuxq1h4CgoYlFDF+soSM",
      "include_colab_link": true,
      "provenance": []
    },
    "kernelspec": {
      "display_name": "Python 3",
      "name": "python3"
    },
    "language_info": {
      "codemirror_mode": {
        "name": "ipython",
        "version": 3
      },
      "file_extension": ".py",
      "mimetype": "text/x-python",
      "name": "python",
      "nbconvert_exporter": "python",
      "pygments_lexer": "ipython3",
      "version": "3.9.6"
    },
    "widgets": {
      "application/vnd.jupyter.widget-state+json": {
        "105b40cad31b4a048ff962fefcca0853": {
          "model_module": "@jupyter-widgets/controls",
          "model_module_version": "1.5.0",
          "model_name": "DescriptionStyleModel",
          "state": {
            "_model_module": "@jupyter-widgets/controls",
            "_model_module_version": "1.5.0",
            "_model_name": "DescriptionStyleModel",
            "_view_count": null,
            "_view_module": "@jupyter-widgets/base",
            "_view_module_version": "1.2.0",
            "_view_name": "StyleView",
            "description_width": ""
          }
        },
        "29bfe3f05f9f45bfbeea1d4713972f19": {
          "model_module": "@jupyter-widgets/controls",
          "model_module_version": "1.5.0",
          "model_name": "FloatProgressModel",
          "state": {
            "_dom_classes": [],
            "_model_module": "@jupyter-widgets/controls",
            "_model_module_version": "1.5.0",
            "_model_name": "FloatProgressModel",
            "_view_count": null,
            "_view_module": "@jupyter-widgets/controls",
            "_view_module_version": "1.5.0",
            "_view_name": "ProgressView",
            "bar_style": "success",
            "description": "",
            "description_tooltip": null,
            "layout": "IPY_MODEL_31b689bdb6994ab08079b3b827975fe3",
            "max": 50,
            "min": 0,
            "orientation": "horizontal",
            "style": "IPY_MODEL_e6c4587c765a48519d1ae0cd2d7a7746",
            "value": 50
          }
        },
        "31b689bdb6994ab08079b3b827975fe3": {
          "model_module": "@jupyter-widgets/base",
          "model_module_version": "1.2.0",
          "model_name": "LayoutModel",
          "state": {
            "_model_module": "@jupyter-widgets/base",
            "_model_module_version": "1.2.0",
            "_model_name": "LayoutModel",
            "_view_count": null,
            "_view_module": "@jupyter-widgets/base",
            "_view_module_version": "1.2.0",
            "_view_name": "LayoutView",
            "align_content": null,
            "align_items": null,
            "align_self": null,
            "border": null,
            "bottom": null,
            "display": null,
            "flex": null,
            "flex_flow": null,
            "grid_area": null,
            "grid_auto_columns": null,
            "grid_auto_flow": null,
            "grid_auto_rows": null,
            "grid_column": null,
            "grid_gap": null,
            "grid_row": null,
            "grid_template_areas": null,
            "grid_template_columns": null,
            "grid_template_rows": null,
            "height": null,
            "justify_content": null,
            "justify_items": null,
            "left": null,
            "margin": null,
            "max_height": null,
            "max_width": null,
            "min_height": null,
            "min_width": null,
            "object_fit": null,
            "object_position": null,
            "order": null,
            "overflow": null,
            "overflow_x": null,
            "overflow_y": null,
            "padding": null,
            "right": null,
            "top": null,
            "visibility": null,
            "width": null
          }
        },
        "4198b4ae736442c4a1e2b7060aa70cf4": {
          "model_module": "@jupyter-widgets/controls",
          "model_module_version": "1.5.0",
          "model_name": "HTMLModel",
          "state": {
            "_dom_classes": [],
            "_model_module": "@jupyter-widgets/controls",
            "_model_module_version": "1.5.0",
            "_model_name": "HTMLModel",
            "_view_count": null,
            "_view_module": "@jupyter-widgets/controls",
            "_view_module_version": "1.5.0",
            "_view_name": "HTMLView",
            "description": "",
            "description_tooltip": null,
            "layout": "IPY_MODEL_8be8a991913847fcb1e54491473e9fab",
            "placeholder": "​",
            "style": "IPY_MODEL_db7fce47c3bf48fb9562288e30b11bdf",
            "value": "100%"
          }
        },
        "5789fcb0b6bc47f29d67e5ac06e5d70c": {
          "model_module": "@jupyter-widgets/base",
          "model_module_version": "1.2.0",
          "model_name": "LayoutModel",
          "state": {
            "_model_module": "@jupyter-widgets/base",
            "_model_module_version": "1.2.0",
            "_model_name": "LayoutModel",
            "_view_count": null,
            "_view_module": "@jupyter-widgets/base",
            "_view_module_version": "1.2.0",
            "_view_name": "LayoutView",
            "align_content": null,
            "align_items": null,
            "align_self": null,
            "border": null,
            "bottom": null,
            "display": null,
            "flex": null,
            "flex_flow": null,
            "grid_area": null,
            "grid_auto_columns": null,
            "grid_auto_flow": null,
            "grid_auto_rows": null,
            "grid_column": null,
            "grid_gap": null,
            "grid_row": null,
            "grid_template_areas": null,
            "grid_template_columns": null,
            "grid_template_rows": null,
            "height": null,
            "justify_content": null,
            "justify_items": null,
            "left": null,
            "margin": null,
            "max_height": null,
            "max_width": null,
            "min_height": null,
            "min_width": null,
            "object_fit": null,
            "object_position": null,
            "order": null,
            "overflow": null,
            "overflow_x": null,
            "overflow_y": null,
            "padding": null,
            "right": null,
            "top": null,
            "visibility": null,
            "width": null
          }
        },
        "73f46b5aefa24b7f89b5193f3673003c": {
          "model_module": "@jupyter-widgets/base",
          "model_module_version": "1.2.0",
          "model_name": "LayoutModel",
          "state": {
            "_model_module": "@jupyter-widgets/base",
            "_model_module_version": "1.2.0",
            "_model_name": "LayoutModel",
            "_view_count": null,
            "_view_module": "@jupyter-widgets/base",
            "_view_module_version": "1.2.0",
            "_view_name": "LayoutView",
            "align_content": null,
            "align_items": null,
            "align_self": null,
            "border": null,
            "bottom": null,
            "display": null,
            "flex": null,
            "flex_flow": null,
            "grid_area": null,
            "grid_auto_columns": null,
            "grid_auto_flow": null,
            "grid_auto_rows": null,
            "grid_column": null,
            "grid_gap": null,
            "grid_row": null,
            "grid_template_areas": null,
            "grid_template_columns": null,
            "grid_template_rows": null,
            "height": null,
            "justify_content": null,
            "justify_items": null,
            "left": null,
            "margin": null,
            "max_height": null,
            "max_width": null,
            "min_height": null,
            "min_width": null,
            "object_fit": null,
            "object_position": null,
            "order": null,
            "overflow": null,
            "overflow_x": null,
            "overflow_y": null,
            "padding": null,
            "right": null,
            "top": null,
            "visibility": null,
            "width": null
          }
        },
        "74deed113d244cd09b868b8c93d87e53": {
          "model_module": "@jupyter-widgets/controls",
          "model_module_version": "1.5.0",
          "model_name": "HBoxModel",
          "state": {
            "_dom_classes": [],
            "_model_module": "@jupyter-widgets/controls",
            "_model_module_version": "1.5.0",
            "_model_name": "HBoxModel",
            "_view_count": null,
            "_view_module": "@jupyter-widgets/controls",
            "_view_module_version": "1.5.0",
            "_view_name": "HBoxView",
            "box_style": "",
            "children": [
              "IPY_MODEL_4198b4ae736442c4a1e2b7060aa70cf4",
              "IPY_MODEL_29bfe3f05f9f45bfbeea1d4713972f19",
              "IPY_MODEL_fbce23ae152846e6a2d6dfa40d89ab75"
            ],
            "layout": "IPY_MODEL_73f46b5aefa24b7f89b5193f3673003c"
          }
        },
        "8be8a991913847fcb1e54491473e9fab": {
          "model_module": "@jupyter-widgets/base",
          "model_module_version": "1.2.0",
          "model_name": "LayoutModel",
          "state": {
            "_model_module": "@jupyter-widgets/base",
            "_model_module_version": "1.2.0",
            "_model_name": "LayoutModel",
            "_view_count": null,
            "_view_module": "@jupyter-widgets/base",
            "_view_module_version": "1.2.0",
            "_view_name": "LayoutView",
            "align_content": null,
            "align_items": null,
            "align_self": null,
            "border": null,
            "bottom": null,
            "display": null,
            "flex": null,
            "flex_flow": null,
            "grid_area": null,
            "grid_auto_columns": null,
            "grid_auto_flow": null,
            "grid_auto_rows": null,
            "grid_column": null,
            "grid_gap": null,
            "grid_row": null,
            "grid_template_areas": null,
            "grid_template_columns": null,
            "grid_template_rows": null,
            "height": null,
            "justify_content": null,
            "justify_items": null,
            "left": null,
            "margin": null,
            "max_height": null,
            "max_width": null,
            "min_height": null,
            "min_width": null,
            "object_fit": null,
            "object_position": null,
            "order": null,
            "overflow": null,
            "overflow_x": null,
            "overflow_y": null,
            "padding": null,
            "right": null,
            "top": null,
            "visibility": null,
            "width": null
          }
        },
        "db7fce47c3bf48fb9562288e30b11bdf": {
          "model_module": "@jupyter-widgets/controls",
          "model_module_version": "1.5.0",
          "model_name": "DescriptionStyleModel",
          "state": {
            "_model_module": "@jupyter-widgets/controls",
            "_model_module_version": "1.5.0",
            "_model_name": "DescriptionStyleModel",
            "_view_count": null,
            "_view_module": "@jupyter-widgets/base",
            "_view_module_version": "1.2.0",
            "_view_name": "StyleView",
            "description_width": ""
          }
        },
        "e6c4587c765a48519d1ae0cd2d7a7746": {
          "model_module": "@jupyter-widgets/controls",
          "model_module_version": "1.5.0",
          "model_name": "ProgressStyleModel",
          "state": {
            "_model_module": "@jupyter-widgets/controls",
            "_model_module_version": "1.5.0",
            "_model_name": "ProgressStyleModel",
            "_view_count": null,
            "_view_module": "@jupyter-widgets/base",
            "_view_module_version": "1.2.0",
            "_view_name": "StyleView",
            "bar_color": null,
            "description_width": ""
          }
        },
        "fbce23ae152846e6a2d6dfa40d89ab75": {
          "model_module": "@jupyter-widgets/controls",
          "model_module_version": "1.5.0",
          "model_name": "HTMLModel",
          "state": {
            "_dom_classes": [],
            "_model_module": "@jupyter-widgets/controls",
            "_model_module_version": "1.5.0",
            "_model_name": "HTMLModel",
            "_view_count": null,
            "_view_module": "@jupyter-widgets/controls",
            "_view_module_version": "1.5.0",
            "_view_name": "HTMLView",
            "description": "",
            "description_tooltip": null,
            "layout": "IPY_MODEL_5789fcb0b6bc47f29d67e5ac06e5d70c",
            "placeholder": "​",
            "style": "IPY_MODEL_105b40cad31b4a048ff962fefcca0853",
            "value": " 50/50 [00:22&lt;00:00,  2.36epoch/s]"
          }
        }
      }
    }
  },
  "nbformat": 4,
  "nbformat_minor": 0
}
